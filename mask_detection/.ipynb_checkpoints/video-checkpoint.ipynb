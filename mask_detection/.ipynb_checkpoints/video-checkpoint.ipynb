{
 "cells": [
  {
   "cell_type": "code",
   "execution_count": 26,
   "id": "8ff745fa-a928-4ca1-956f-750e4967b596",
   "metadata": {},
   "outputs": [],
   "source": [
    "import os \n",
    "import cv2 as cv \n",
    "import ultralytics\n",
    "from sort import *"
   ]
  },
  {
   "cell_type": "code",
   "execution_count": 27,
   "id": "15481607-2eb2-4b60-bdb1-4f0253920879",
   "metadata": {},
   "outputs": [],
   "source": [
    "from ultralytics import YOLO"
   ]
  },
  {
   "cell_type": "code",
   "execution_count": 72,
   "id": "a33ff37f-6d5e-4143-aae6-62b97651904c",
   "metadata": {},
   "outputs": [
    {
     "name": "stdout",
     "output_type": "stream",
     "text": [
      "There are 3 functions here i.e. mask_detection(),  video() and save_video(). All will  detect face with mask and without\n",
      "mask wtih confidence level. They will also count total number of face with masks in the video and for the single frame\n",
      "As the name suggests, video will just play video with detection whereas save_video will save the video as well. In mask_detection(), it will detect\n",
      "face with mask or not in the image\n"
     ]
    }
   ],
   "source": [
    "# Use 'best_7.pt' to count total number of mask came in the video. Here mask class number is 0 need to adjust code\n",
    "# Use '2_class.pt' to detect face with and without mask. mask = 1, mask =2\n",
    "print('''There are 3 functions here i.e. mask_detection(),  video() and save_video(). All will  detect face with mask and without\n",
    "mask wtih confidence level. They will also count total number of face with masks in the video and for the single frame''')\n",
    "print('''As the name suggests, video will just play video with detection whereas save_video will save the video as well. In mask_detection(), it will detect\n",
    "face with mask or not in the image''')"
   ]
  },
  {
   "cell_type": "code",
   "execution_count": 28,
   "id": "03d0a143-94d4-43a5-8192-c4ca6bdb2ff0",
   "metadata": {},
   "outputs": [],
   "source": [
    "pred= YOLO('2_class.pt')"
   ]
  },
  {
   "cell_type": "code",
   "execution_count": 70,
   "id": "70cac995-d7d6-42da-8fee-a19e9732a731",
   "metadata": {},
   "outputs": [],
   "source": [
    "def mask_detector(inp):\n",
    "    img = cv.imread(inp)\n",
    "    result = pred(img, iou = 0.1)\n",
    "    mc = 0\n",
    "    nc = 0\n",
    "    for r in result:\n",
    "        cl_name = r.names\n",
    "        for box in r.boxes.data:\n",
    "            \n",
    "            x1, y1, x2, y2, conf, clas = box\n",
    "            x1, y1, x2, y2, conf, clas = int(x1), int(y1), int(x2), int(y2), int(conf*100), int(clas)\n",
    "            \n",
    "            text = cl_name[clas] +f': {conf}'\n",
    "            cv.rectangle(img, (x1,y1), (x2,y2), (255,0,255),2)\n",
    "            if clas == 1:\n",
    "                mc +=1\n",
    "                cv.putText(img, text, (max(0,x1-5), max(10, y1-5)), \n",
    "                      cv.FONT_HERSHEY_COMPLEX, 0.5, (25, 255 ,105),1)\n",
    "            else:\n",
    "                nc +=1\n",
    "                cv.putText(img, text, (max(0,x1-5), max(10, y1-5)), \n",
    "                      cv.FONT_HERSHEY_COMPLEX, 0.5, (25, 255 ,105),1)\n",
    "    cv.putText(img, f'Face with Masks: {mc}' ,(10,20),cv.FONT_HERSHEY_COMPLEX, 0.6, (100, 0 ,255),1)\n",
    "    cv.putText(img, f'Face with no Mask: {nc}' ,(10,50),cv.FONT_HERSHEY_COMPLEX, 0.6, (100, 0 ,255),1 )\n",
    "    \n",
    "    cv.imshow('Result', img)\n",
    "    cv.waitKey(0)\n",
    "    cv.destroyAllWindows()\n",
    "                "
   ]
  },
  {
   "cell_type": "code",
   "execution_count": null,
   "id": "02065c67-0fb1-4e24-936e-748b764474ad",
   "metadata": {},
   "outputs": [],
   "source": []
  },
  {
   "cell_type": "code",
   "execution_count": 22,
   "id": "37a27b20-cef2-4ca7-8b50-55329b3a19f7",
   "metadata": {},
   "outputs": [],
   "source": [
    "def save_video():\n",
    "    inp = input('Give path to the video')\n",
    "    out = input('Give path for the output')\n",
    "    \n",
    "\n",
    "    \n",
    "    \n",
    "    cap = cv.VideoCapture(inp)\n",
    "    framewidth = int(cap.get(cv.CAP_PROP_FRAME_WIDTH))\n",
    "    frameheight = int(cap.get(cv.CAP_PROP_FRAME_HEIGHT))\n",
    "    fps = int(cap.get(cv.CAP_PROP_FPS))\n",
    "    fourcc = cv.VideoWriter_fourcc(*'MP4V')\n",
    "    output = cv.VideoWriter(out, fourcc, fps, (framewidth, frameheight))\n",
    "    tracker = Sort(max_age = 20, min_hits = 3, iou_threshold = 0.3)\n",
    "    #limit = [0,200,620,200]\n",
    "    \n",
    "    track_id = []\n",
    "    while True:\n",
    "        ret, img = cap.read()\n",
    "        if ret == True:\n",
    "            results = pred(img, stream = True, iou = 0.1, conf = 0.35)\n",
    "            detection = np.empty((0,5))\n",
    "            count = 0\n",
    "            for result in results:\n",
    "                \n",
    "                for i in result.boxes:\n",
    "                    \n",
    "                    cls = i.cls\n",
    "                    if int(cls) == 1:\n",
    "                        count +=1\n",
    "                        conf = i.conf\n",
    "                        x1,y1,x2,y2 = i.xyxy[0]\n",
    "                        x1,y1,x2,y2 = int(x1),int(y1),int(x2),int(y2)\n",
    "                        #cv.rectangle(img, (x,y), (x1,y1), (255,0,255),2)\n",
    "                        #cv.putText(img, f'Mask{round(float(conf),2)}' ,(x,y-10),cv.FONT_HERSHEY_COMPLEX, 0.8, (25, 155 ,125),2)\n",
    "                        array = np.array([x1,y1,x2,y2, int(conf*100)])\n",
    "                        detection = np.vstack((detection, array))\n",
    "            \n",
    "                    elif int(cls) == 0:\n",
    "                        conf = i.conf\n",
    "                        x1,y1,x2,y2 = i.xyxy[0]\n",
    "                        x1,y1,x2,y2 = int(x1),int(y1),int(x2),int(y2)\n",
    "                        cv.rectangle(img, (x1,y1), (x2,y2), (255,0,255),2)\n",
    "                        cv.putText(img, f'FACE{round(float(conf),2)}' ,(x1,y1-10),cv.FONT_HERSHEY_COMPLEX, 0.5, (25, 155 ,125),2)\n",
    "                        \n",
    "            track = tracker.update(detection)\n",
    "           \n",
    "            for tr in track:\n",
    "                x1,y1,x2,y2,iden = tr\n",
    "                x1,y1,x2,y2,iden = int(x1),int(y1),int(x2),int(y2), int(iden)\n",
    "                cv.rectangle(img, (x1,y1),(x2,y2), (255,0,255), 2)\n",
    "                cv.putText(img, f'Mask ID: {str(iden)} ', (max(0,x1-15), max(35, y1-5)), \n",
    "                              cv.FONT_HERSHEY_COMPLEX, 0.5, (50,125, 0), 2)\n",
    "                #cx, cy = x1+ (x2-x1)//2, y1 +(y2-y1)\n",
    "               \n",
    "           \n",
    "                if (iden not in track_id):\n",
    "                #if( limit[0]<cx<limit[2]) &( limit[1] -20<cy< limit[1] + 2) &(iden not in track_id):\n",
    "                    \n",
    "                    track_id.append(iden)\n",
    "            cv.putText(img, f'Total Masks: {len(track_id)}' ,(10,20),cv.FONT_HERSHEY_COMPLEX, 0.6, (100, 0 ,255),2 )\n",
    "            cv.putText(img, f'Per scene: {count}' ,(10,50),cv.FONT_HERSHEY_COMPLEX, 0.6, (100, 0 ,255),2 )\n",
    "                \n",
    "            \n",
    "            cv.imshow('img', img)\n",
    "            output.write(img)\n",
    "            if cv.waitKey(1) & 0xFF == ord('x'):\n",
    "                break\n",
    "        else:\n",
    "            break\n",
    "            \n",
    "    output.release()\n",
    "    cap.release()\n",
    "    cv.destroyAllWindows()\n",
    "    "
   ]
  },
  {
   "cell_type": "code",
   "execution_count": 23,
   "id": "9005f3d2-39ef-4615-878b-d4fa239e5d4c",
   "metadata": {},
   "outputs": [],
   "source": [
    "def video():\n",
    "    \n",
    "    path = input('Give path of the video')\n",
    "    cap = cv.VideoCapture(path)\n",
    "    tracker = Sort(max_age = 20, min_hits = 3, iou_threshold = 0.3)\n",
    "\n",
    "\n",
    "    track_id = []\n",
    "    while True:\n",
    "        ret, img = cap.read()\n",
    "        if ret == True:\n",
    "            results = pred(img, stream = True, iou = 0.1, conf = 0.35)\n",
    "            detection = np.empty((0,5))\n",
    "            count = 0\n",
    "            for result in results:\n",
    "                \n",
    "                for i in result.boxes:\n",
    "                    \n",
    "                    cls = i.cls\n",
    "                    if int(cls) == 1:\n",
    "                        count +=1\n",
    "                        conf = i.conf\n",
    "                        x1,y1,x2,y2 = i.xyxy[0]\n",
    "                        x1,y1,x2,y2 = int(x1),int(y1),int(x2),int(y2)\n",
    "                        #cv.rectangle(img, (x,y), (x1,y1), (255,0,255),2)\n",
    "                        #cv.putText(img, f'Mask{round(float(conf),2)}' ,(x,y-10),cv.FONT_HERSHEY_COMPLEX, 0.8, (25, 155 ,125),2)\n",
    "                        array = np.array([x1,y1,x2,y2, int(conf*100)])\n",
    "                        detection = np.vstack((detection, array))\n",
    "            \n",
    "                    elif int(cls) == 0:\n",
    "                        conf = i.conf\n",
    "                        x1,y1,x2,y2 = i.xyxy[0]\n",
    "                        x1,y1,x2,y2 = int(x1),int(y1),int(x2),int(y2)\n",
    "                        cv.rectangle(img, (x1,y1), (x2,y2), (255,0,255),2)\n",
    "                        cv.putText(img, f'FACE{round(float(conf),2)}' ,(x1,y1-10),cv.FONT_HERSHEY_COMPLEX, 0.8, (25, 155 ,125),2)\n",
    "                        \n",
    "            track = tracker.update(detection)\n",
    "           \n",
    "            for tr in track:\n",
    "                x1,y1,x2,y2,iden = tr\n",
    "                x1,y1,x2,y2,iden = int(x1),int(y1),int(x2),int(y2), int(iden)\n",
    "                cv.rectangle(img, (x1,y1),(x2,y2), (255,0,255), 2)\n",
    "                cv.putText(img, f'Mask ID: {str(iden)} ', (max(0,x1-15), max(35, y1-5)), \n",
    "                              cv.FONT_HERSHEY_COMPLEX, 0.5, (50,125, 0), 2)\n",
    "                #cx, cy = x1+ (x2-x1)//2, y1 +(y2-y1)\n",
    "               \n",
    "           \n",
    "                if (iden not in track_id):\n",
    "                #if( limit[0]<cx<limit[2]) &( limit[1] -20<cy< limit[1] + 2) &(iden not in track_id):\n",
    "                    \n",
    "                    track_id.append(iden)\n",
    "            cv.putText(img, f'Total Masks: {len(track_id)}' ,(10,20),cv.FONT_HERSHEY_COMPLEX, 0.6, (100, 0 ,255),2 )\n",
    "            cv.putText(img, f'Per scene: {count}' ,(10,50),cv.FONT_HERSHEY_COMPLEX, 0.6, (100, 0 ,255),2 )\n",
    "                \n",
    "            \n",
    "            cv.imshow('img', img)\n",
    "           \n",
    "            if cv.waitKey(1) & 0xFF == ord('x'):\n",
    "                break\n",
    "        else:\n",
    "            break\n",
    "            \n",
    " \n",
    "    cap.release()\n",
    "    cv.destroyAllWindows()\n",
    "\n",
    "    \n"
   ]
  },
  {
   "cell_type": "code",
   "execution_count": 25,
   "id": "a9c5f4d8-8868-4f53-a699-73f445431ee7",
   "metadata": {
    "collapsed": true,
    "jupyter": {
     "outputs_hidden": true
    }
   },
   "outputs": [
    {
     "name": "stdout",
     "output_type": "stream",
     "text": [
      "Choose the option:\n",
      "press 1 to play the video only\n",
      "press 2 to play and save the video as well\n",
      "press x to quit\n"
     ]
    },
    {
     "name": "stdin",
     "output_type": "stream",
     "text": [
      "Your input 1\n",
      "Give path of the video D:\\computer_vision\\wobo\\test\\Test_video1.mp4\n"
     ]
    },
    {
     "ename": "NameError",
     "evalue": "name 'pred' is not defined",
     "output_type": "error",
     "traceback": [
      "\u001b[1;31m---------------------------------------------------------------------------\u001b[0m",
      "\u001b[1;31mNameError\u001b[0m                                 Traceback (most recent call last)",
      "Cell \u001b[1;32mIn[25], line 9\u001b[0m\n\u001b[0;32m      7\u001b[0m x \u001b[38;5;241m=\u001b[39m \u001b[38;5;28minput\u001b[39m(\u001b[38;5;124m'\u001b[39m\u001b[38;5;124mYour input\u001b[39m\u001b[38;5;124m'\u001b[39m)\n\u001b[0;32m      8\u001b[0m \u001b[38;5;28;01mif\u001b[39;00m x \u001b[38;5;241m==\u001b[39m \u001b[38;5;124m'\u001b[39m\u001b[38;5;124m1\u001b[39m\u001b[38;5;124m'\u001b[39m:\n\u001b[1;32m----> 9\u001b[0m     \u001b[43mvideo\u001b[49m\u001b[43m(\u001b[49m\u001b[43m)\u001b[49m\n\u001b[0;32m     10\u001b[0m     \u001b[38;5;28mprint\u001b[39m(\u001b[38;5;124m'''\u001b[39m\u001b[38;5;124mChoose the option:\u001b[39m\n\u001b[0;32m     11\u001b[0m \u001b[38;5;124m    press 1 to play the video only\u001b[39m\n\u001b[0;32m     12\u001b[0m \u001b[38;5;124m    press 2 to play and save the video as well\u001b[39m\n\u001b[0;32m     13\u001b[0m \u001b[38;5;124m    press x to quit\u001b[39m\u001b[38;5;124m'''\u001b[39m)\n\u001b[0;32m     14\u001b[0m     x \u001b[38;5;241m=\u001b[39m \u001b[38;5;28minput\u001b[39m(\u001b[38;5;124m'\u001b[39m\u001b[38;5;124mYour input\u001b[39m\u001b[38;5;124m'\u001b[39m)\n",
      "Cell \u001b[1;32mIn[23], line 12\u001b[0m, in \u001b[0;36mvideo\u001b[1;34m()\u001b[0m\n\u001b[0;32m     10\u001b[0m ret, img \u001b[38;5;241m=\u001b[39m cap\u001b[38;5;241m.\u001b[39mread()\n\u001b[0;32m     11\u001b[0m \u001b[38;5;28;01mif\u001b[39;00m ret \u001b[38;5;241m==\u001b[39m \u001b[38;5;28;01mTrue\u001b[39;00m:\n\u001b[1;32m---> 12\u001b[0m     results \u001b[38;5;241m=\u001b[39m \u001b[43mpred\u001b[49m(img, stream \u001b[38;5;241m=\u001b[39m \u001b[38;5;28;01mTrue\u001b[39;00m, iou \u001b[38;5;241m=\u001b[39m \u001b[38;5;241m0.1\u001b[39m, conf \u001b[38;5;241m=\u001b[39m \u001b[38;5;241m0.35\u001b[39m)\n\u001b[0;32m     13\u001b[0m     detection \u001b[38;5;241m=\u001b[39m np\u001b[38;5;241m.\u001b[39mempty((\u001b[38;5;241m0\u001b[39m,\u001b[38;5;241m5\u001b[39m))\n\u001b[0;32m     14\u001b[0m     count \u001b[38;5;241m=\u001b[39m \u001b[38;5;241m0\u001b[39m\n",
      "\u001b[1;31mNameError\u001b[0m: name 'pred' is not defined"
     ]
    }
   ],
   "source": [
    "#Press x to close\n",
    "print('''Choose the option:\n",
    "press 1 to play the video only\n",
    "press 2 to play and save the video as well\n",
    "press 3 to detect mask on face in images\n",
    "press x to exit''')\n",
    "while True:\n",
    "    x = input('Your input')\n",
    "    if x == '1':\n",
    "        video()\n",
    "        print('''Choose the option:\n",
    "        press 1 to play the video only\n",
    "        press 2 to play and save the video as well\n",
    "        press 3 to detect mask on face in images\n",
    "        press x to quit''')\n",
    "        x = input('Your input')\n",
    "    elif x == '2':\n",
    "        save_video()\n",
    "        print('''Choose the option:\n",
    "        press 1 to play the video only\n",
    "        press 2 to play and save the video as well\n",
    "        press 3 to detect mask on face in images\n",
    "        press x to quit''')\n",
    "        x = input('Your input')\n",
    "    elif x == '3':\n",
    "        mask_detection()\n",
    "        print('''Choose the option:\n",
    "        press 1 to play the video only\n",
    "        press 2 to play and save the video as well\n",
    "        press 3 to detect mask on face in images\n",
    "        press x to quit''')\n",
    "        x = input('Your input')\n",
    "    elif x not in ['x', '1', '2', '3']:\n",
    "        print('try again')\n",
    "        x = input('Your input')\n",
    "       \n",
    "    else:\n",
    "         break\n",
    "    break\n",
    "        \n",
    "        "
   ]
  },
  {
   "cell_type": "code",
   "execution_count": null,
   "id": "c579895b-7c91-49a9-961b-9d6f4e211904",
   "metadata": {
    "jupyter": {
     "source_hidden": true
    }
   },
   "outputs": [],
   "source": []
  }
 ],
 "metadata": {
  "kernelspec": {
   "display_name": "Python 3 (ipykernel)",
   "language": "python",
   "name": "python3"
  },
  "language_info": {
   "codemirror_mode": {
    "name": "ipython",
    "version": 3
   },
   "file_extension": ".py",
   "mimetype": "text/x-python",
   "name": "python",
   "nbconvert_exporter": "python",
   "pygments_lexer": "ipython3",
   "version": "3.10.0"
  }
 },
 "nbformat": 4,
 "nbformat_minor": 5
}
